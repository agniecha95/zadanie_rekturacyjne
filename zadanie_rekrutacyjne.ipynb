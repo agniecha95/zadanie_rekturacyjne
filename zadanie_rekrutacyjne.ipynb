{
 "cells": [
  {
   "cell_type": "markdown",
   "metadata": {},
   "source": [
    "**Seria warsztatów z analizy danych w Pythonie**\n",
    "\n",
    "_Zadanie rekrutacyjne_\n",
    "\n",
    "Napisz funkcję <code><font color=\"blue\">are_anagrams</font>(s1, s2, s3)</code>, która zwróci:\n",
    "\n",
    "* <code>True</code>, jeżeli łańcuchy znaków <code>s1, s2, s3</code> są anagramami,\n",
    "\n",
    "* <code>False</code>, jeżeli łańcuchy znaków <code>s1, s2, s3</code> nie są anagramami.\n",
    "\n",
    "Załóż, że maksymalna długość każdego z łańcuchów znaków jest równa **5**.\n",
    "\n",
    "Uzasadnij zaproponowane rozwiązanie, umieszczając komentarze w treści kodu."
   ]
  },
  {
   "cell_type": "code",
   "execution_count": 30,
   "metadata": {},
   "outputs": [
    {
     "output_type": "execute_result",
     "data": {
      "text/plain": [
       "True"
      ]
     },
     "metadata": {},
     "execution_count": 30
    }
   ],
   "source": [
    "def are_anagrams(s1, s2, s3):\n",
    "\n",
    "    #Anagramami są wyrazy, które składają się dokładnie z tych samych znaków. Jeżeli posortujemy każdy ciąg alfabetycznie, otrzymamy te same ciągi, jeżeli dane wyrazy są anagramami.\n",
    "    #W pythonie możemy użyć funkcji sort() na listach.\n",
    "    #Zaczęłam od przekonwertowania każdego ciągu na listę i użyciu sort() na każdej liście.\n",
    "\n",
    "    list1 = list(s1) \n",
    "    list1.sort()\n",
    "    list2 = list(s2)\n",
    "    list2.sort()\n",
    "    list3 = list(s3)\n",
    "    list3.sort()\n",
    "\n",
    "    #Jeżeli poszczególne elementy każdej listy się zgadzają, oznacza to, że wyrazy są anagramami\n",
    "    \n",
    "    if ((len(list1)<=5) and (len(list2)<=5) and (len(list3)<=5)):\n",
    "        if (list1 == list2) and (list1 == list3) and (list2 == list3):\n",
    "            return True\n",
    "        else:\n",
    "            return False\n",
    "    else:\n",
    "        print('Dlugość wyrazu jest za długa')\n",
    "\n",
    "s1 = \"kore\"\n",
    "s2 = \"orek\"\n",
    "s3 = \"erko\"\n",
    "\n",
    "are_anagrams(s1,s2,s3)\n"
   ]
  },
  {
   "cell_type": "code",
   "execution_count": null,
   "metadata": {},
   "outputs": [],
   "source": []
  }
 ],
 "metadata": {
  "celltoolbar": "Edit Metadata",
  "kernelspec": {
   "display_name": "Python 3",
   "language": "python",
   "name": "python3"
  },
  "language_info": {
   "codemirror_mode": {
    "name": "ipython",
    "version": 3
   },
   "file_extension": ".py",
   "mimetype": "text/x-python",
   "name": "python",
   "nbconvert_exporter": "python",
   "pygments_lexer": "ipython3",
   "version": "3.6.8"
  }
 },
 "nbformat": 4,
 "nbformat_minor": 2
}